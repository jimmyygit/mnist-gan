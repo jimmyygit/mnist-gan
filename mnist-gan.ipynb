{
  "cells": [
    {
      "cell_type": "markdown",
      "metadata": {
        "id": "LmdobkJsEkwr"
      },
      "source": [
        "## Setup\n",
        "\n",
        "\n",
        "1. In Colab, open tab Runtime > Change runtime type, choose *python3* and *T4 GPU*.\n",
        "2. Run the following command to set up the environment. (Takes ~ 1.5 min)\n",
        "\n"
      ]
    },
    {
      "cell_type": "code",
      "execution_count": 4,
      "metadata": {
        "id": "m_WiZh7IEkwt"
      },
      "outputs": [],
      "source": [
        "! pip install --quiet \"ipython[notebook]==7.34.0, <8.17.0\" \"setuptools>=68.0.0, <68.3.0\"  \"torch==1.13.0\" \"matplotlib\"  \"torchvision\""
      ]
    },
    {
      "cell_type": "markdown",
      "metadata": {
        "id": "D28Xaf1vEkwt"
      },
      "source": [
        "Let's start with importing our standard set of libraries."
      ]
    },
    {
      "cell_type": "code",
      "execution_count": 5,
      "metadata": {
        "colab": {
          "base_uri": "https://localhost:8080/"
        },
        "id": "4DGPSRTNEkwt",
        "outputId": "9d34d7c0-8fbb-4dae-bb1e-7ebdb2bbc370"
      },
      "outputs": [
        {
          "name": "stdout",
          "output_type": "stream",
          "text": [
            "Everything looks good; continue\n"
          ]
        }
      ],
      "source": [
        "import torch\n",
        "from torch import nn, optim, autograd\n",
        "import torchvision\n",
        "import torchvision.transforms as transforms\n",
        "import matplotlib.pyplot as plt\n",
        "import torchvision.utils as vutils\n",
        "from dataclasses import dataclass\n",
        "import time\n",
        "import sys\n",
        "%matplotlib inline\n",
        "torch.set_num_threads(1)\n",
        "torch.manual_seed(1)\n",
        "\n",
        "\n",
        "device = torch.device(\"cuda:0\") if torch.cuda.is_available() else torch.device(\"cpu\")\n",
        "\n",
        "if device == torch.device(\"cuda:0\"):\n",
        "  print('Everything looks good; continue')\n",
        "else:\n",
        "  # It is OK if you cannot connect to a GPU. In this case, training the model for\n",
        "  # 2 epoch is sufficient to get full mark. (NOTE THAT 2 epoch takes approximately 1.5 hours to train for CPU)\n",
        "  print('GPU is not detected. Make sure you have chosen the right runtime type')"
      ]
    },
    {
      "cell_type": "markdown",
      "metadata": {
        "id": "pQqtReHKEkwu"
      },
      "source": [
        "## Dataloaders and hyperparameters"
      ]
    },
    {
      "cell_type": "code",
      "execution_count": 6,
      "metadata": {
        "id": "qljorf0rVrwv"
      },
      "outputs": [],
      "source": [
        "@dataclass\n",
        "class Hyperparameter:\n",
        "    batchsize: int          = 64\n",
        "    num_epochs: int         = 5\n",
        "    latent_size: int        = 32\n",
        "    n_critic: int           = 5\n",
        "    critic_size: int        = 1024\n",
        "    generator_size: int     = 1024\n",
        "    critic_hidden_size: int = 1024\n",
        "    gp_lambda: float        = 10.\n",
        "\n",
        "hp = Hyperparameter()\n",
        "\n",
        "transform = transforms.Compose([transforms.ToTensor(), transforms.Normalize((0.5,), (0.5,))])\n",
        "\n",
        "dataset  = torchvision.datasets.MNIST(\"mnist\", download=True, transform=transform)\n",
        "dataloader = torch.utils.data.DataLoader(dataset, batch_size=hp.batchsize, num_workers=1, shuffle=True, drop_last=True, pin_memory=True)"
      ]
    },
    {
      "cell_type": "markdown",
      "metadata": {
        "id": "XTwG6aFlEkwu"
      },
      "source": [
        "## Building Models\n",
        "\n",
        "After examining the preprocessing steps, we can now start building the models, including the generator for generating new images from random noise, and a critic of the realness of the image.\n",
        "\n",
        "\n",
        "In this assignment we adopt the implementation of [DCGAN](https://arxiv.org/pdf/1511.06434), which is a direct extension of [GAN](https://proceedings.neurips.cc/paper_files/paper/2014/file/5ca3e9b122f61f8f06494c97b1afccf3-Paper.pdf), with convolutional and convolutional-transpose layers in the critic and genrator, respectively. Specifically, we will use the [ConvTranspose2d](https://pytorch.org/docs/stable/generated/torch.nn.ConvTranspose2d.html) layers to upscale the noise.\n",
        "\n",
        "Moreover, we apply an improved version of [Wasserstein-GAN](https://arxiv.org/pdf/1701.07875) with a [Gradient Penalty](https://arxiv.org/pdf/1704.00028) (you may read Algorithm 1 to fully understand the code we are implementing).\n"
      ]
    },
    {
      "cell_type": "code",
      "execution_count": 7,
      "metadata": {
        "id": "u05eDLLwbYAo"
      },
      "outputs": [],
      "source": [
        "# Define the generator\n",
        "\n",
        "class Generator(nn.Module):\n",
        "    def __init__(self):\n",
        "        super(Generator, self).__init__()\n",
        "\n",
        "        # Add latent embedding layer to adjust the dimension of the input\n",
        "        self.latent_embedding = nn.Linear(hp.latent_size, hp.generator_size * 1 * 1)\n",
        "\n",
        "\n",
        "        # Transposed CNN layers to transfer noise to image\n",
        "\n",
        "        self.tcnn = nn.Sequential(\n",
        "        # input is Z, going into a convolution\n",
        "        nn.ConvTranspose2d(hp.generator_size, hp.generator_size, 4, 1, 0),\n",
        "        nn.BatchNorm2d(hp.generator_size),\n",
        "        nn.ReLU(inplace=True),\n",
        "        # upscaling\n",
        "        nn.ConvTranspose2d(hp.generator_size, hp.generator_size // 2, 3, 2, 1),\n",
        "        nn.BatchNorm2d(hp.generator_size // 2),\n",
        "        nn.ReLU(inplace=True),\n",
        "        # upscaling\n",
        "        nn.ConvTranspose2d(hp.generator_size // 2, hp.generator_size // 4, 4, 2, 1),\n",
        "        nn.BatchNorm2d(hp.generator_size // 4),\n",
        "        nn.ReLU(inplace=True),\n",
        "        nn.ConvTranspose2d(hp.generator_size // 4, 1, 4, 2, 1),\n",
        "        nn.Tanh()\n",
        "        )\n",
        "\n",
        "\n",
        "    def forward(self, latent):\n",
        "        vec_latent = self.latent_embedding(latent).reshape(-1, hp.generator_size, 1, 1)\n",
        "        return self.tcnn(vec_latent)\n",
        "\n",
        "\n",
        "# Define the critic\n",
        "\n",
        "class Critic(nn.Module):\n",
        "    def __init__(self):\n",
        "        super(Critic, self).__init__()\n",
        "\n",
        "        # CNN layers that perform downscaling\n",
        "        self.cnn_net = nn.Sequential(\n",
        "        nn.Conv2d(1, hp.critic_size // 4, 3, 2),\n",
        "        nn.InstanceNorm2d(hp.critic_size // 4, affine=True),\n",
        "        nn.LeakyReLU(0.2, inplace=True),\n",
        "        nn.Conv2d(hp.critic_size // 4, hp.critic_size // 2, 3, 2),\n",
        "        nn.InstanceNorm2d(hp.critic_size // 2, affine=True),\n",
        "        nn.LeakyReLU(0.2, inplace=True),\n",
        "        nn.Conv2d(hp.critic_size // 2, hp.critic_size, 3, 2),\n",
        "        nn.InstanceNorm2d(hp.critic_size, affine=True),\n",
        "        nn.LeakyReLU(0.2, inplace=True),\n",
        "        nn.Flatten(),\n",
        "        )\n",
        "\n",
        "        # Linear layers that produce the output from the features\n",
        "        self.critic_net = nn.Sequential(\n",
        "        nn.Linear(hp.critic_size * 4, hp.critic_hidden_size),\n",
        "        nn.LeakyReLU(0.2, inplace=True),\n",
        "\n",
        "        # Add the last layer to reflect the output\n",
        "        nn.Linear(hp.critic_hidden_size, 1)\n",
        "        )\n",
        "\n",
        "    def forward(self, image):\n",
        "        cnn_features = self.cnn_net(image)\n",
        "        return self.critic_net(cnn_features)\n"
      ]
    }
  ],
  "metadata": {
    "accelerator": "GPU",
    "colab": {
      "provenance": [],
      "toc_visible": true
    },
    "kernelspec": {
      "display_name": "Python 3 (ipykernel)",
      "language": "python",
      "name": "python3"
    },
    "language_info": {
      "codemirror_mode": {
        "name": "ipython",
        "version": 3
      },
      "file_extension": ".py",
      "mimetype": "text/x-python",
      "name": "python",
      "nbconvert_exporter": "python",
      "pygments_lexer": "ipython3",
      "version": "3.10.9"
    }
  },
  "nbformat": 4,
  "nbformat_minor": 0
}
