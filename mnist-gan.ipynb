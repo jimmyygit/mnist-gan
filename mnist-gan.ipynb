{
  "cells": [
    {
      "cell_type": "markdown",
      "metadata": {
        "id": "LmdobkJsEkwr"
      },
      "source": [
        "## Setup\n",
        "\n",
        "\n",
        "1. In Colab, open tab Runtime > Change runtime type, choose *python3* and *T4 GPU*.\n",
        "2. Run the following command to set up the environment. (Takes ~ 1.5 min)\n",
        "\n"
      ]
    },
    {
      "cell_type": "code",
      "execution_count": 4,
      "metadata": {
        "id": "m_WiZh7IEkwt"
      },
      "outputs": [],
      "source": [
        "! pip install --quiet \"ipython[notebook]==7.34.0, <8.17.0\" \"setuptools>=68.0.0, <68.3.0\"  \"torch==1.13.0\" \"matplotlib\"  \"torchvision\""
      ]
    },
    {
      "cell_type": "markdown",
      "metadata": {
        "id": "D28Xaf1vEkwt"
      },
      "source": [
        "Let's start with importing our standard set of libraries."
      ]
    },
    {
      "cell_type": "code",
      "execution_count": 5,
      "metadata": {
        "colab": {
          "base_uri": "https://localhost:8080/"
        },
        "id": "4DGPSRTNEkwt",
        "outputId": "9d34d7c0-8fbb-4dae-bb1e-7ebdb2bbc370"
      },
      "outputs": [
        {
          "name": "stdout",
          "output_type": "stream",
          "text": [
            "Everything looks good; continue\n"
          ]
        }
      ],
      "source": [
        "import torch\n",
        "from torch import nn, optim, autograd\n",
        "import torchvision\n",
        "import torchvision.transforms as transforms\n",
        "import matplotlib.pyplot as plt\n",
        "import torchvision.utils as vutils\n",
        "from dataclasses import dataclass\n",
        "import time\n",
        "import sys\n",
        "%matplotlib inline\n",
        "torch.set_num_threads(1)\n",
        "torch.manual_seed(1)\n",
        "\n",
        "\n",
        "device = torch.device(\"cuda:0\") if torch.cuda.is_available() else torch.device(\"cpu\")\n",
        "\n",
        "if device == torch.device(\"cuda:0\"):\n",
        "  print('Everything looks good; continue')\n",
        "else:\n",
        "  # It is OK if you cannot connect to a GPU. In this case, training the model for\n",
        "  # 2 epoch is sufficient to get full mark. (NOTE THAT 2 epoch takes approximately 1.5 hours to train for CPU)\n",
        "  print('GPU is not detected. Make sure you have chosen the right runtime type')"
      ]
    },
    {
      "cell_type": "markdown",
      "metadata": {
        "id": "pQqtReHKEkwu"
      },
      "source": [
        "## Dataloaders and hyperparameters"
      ]
    },
    {
      "cell_type": "code",
      "execution_count": 6,
      "metadata": {
        "id": "qljorf0rVrwv"
      },
      "outputs": [],
      "source": [
        "@dataclass\n",
        "class Hyperparameter:\n",
        "    batchsize: int          = 64\n",
        "    num_epochs: int         = 5\n",
        "    latent_size: int        = 32\n",
        "    n_critic: int           = 5\n",
        "    critic_size: int        = 1024\n",
        "    generator_size: int     = 1024\n",
        "    critic_hidden_size: int = 1024\n",
        "    gp_lambda: float        = 10.\n",
        "\n",
        "hp = Hyperparameter()\n",
        "\n",
        "transform = transforms.Compose([transforms.ToTensor(), transforms.Normalize((0.5,), (0.5,))])\n",
        "\n",
        "dataset  = torchvision.datasets.MNIST(\"mnist\", download=True, transform=transform)\n",
        "dataloader = torch.utils.data.DataLoader(dataset, batch_size=hp.batchsize, num_workers=1, shuffle=True, drop_last=True, pin_memory=True)"
      ]
    },
    {
      "cell_type": "markdown",
      "metadata": {
        "id": "XTwG6aFlEkwu"
      },
      "source": [
        "## Building Models\n",
        "\n",
        "After examining the preprocessing steps, we can now start building the models, including the generator for generating new images from random noise, and a critic of the realness of the image.\n",
        "\n",
        "\n",
        "In this assignment we adopt the implementation of [DCGAN](https://arxiv.org/pdf/1511.06434), which is a direct extension of [GAN](https://proceedings.neurips.cc/paper_files/paper/2014/file/5ca3e9b122f61f8f06494c97b1afccf3-Paper.pdf), with convolutional and convolutional-transpose layers in the critic and genrator, respectively. Specifically, we will use the [ConvTranspose2d](https://pytorch.org/docs/stable/generated/torch.nn.ConvTranspose2d.html) layers to upscale the noise.\n",
        "\n",
        "Moreover, we apply an improved version of [Wasserstein-GAN](https://arxiv.org/pdf/1701.07875) with a [Gradient Penalty](https://arxiv.org/pdf/1704.00028) (you may read Algorithm 1 to fully understand the code we are implementing).\n"
      ]
    },
    {
      "cell_type": "code",
      "execution_count": 7,
      "metadata": {
        "id": "u05eDLLwbYAo"
      },
      "outputs": [],
      "source": [
        "# Define the generator\n",
        "\n",
        "class Generator(nn.Module):\n",
        "    def __init__(self):\n",
        "        super(Generator, self).__init__()\n",
        "\n",
        "        # Add latent embedding layer to adjust the dimension of the input\n",
        "        self.latent_embedding = nn.Linear(hp.latent_size, hp.generator_size * 1 * 1)\n",
        "\n",
        "\n",
        "        # Transposed CNN layers to transfer noise to image\n",
        "\n",
        "        self.tcnn = nn.Sequential(\n",
        "        # input is Z, going into a convolution\n",
        "        nn.ConvTranspose2d(hp.generator_size, hp.generator_size, 4, 1, 0),\n",
        "        nn.BatchNorm2d(hp.generator_size),\n",
        "        nn.ReLU(inplace=True),\n",
        "        # upscaling\n",
        "        nn.ConvTranspose2d(hp.generator_size, hp.generator_size // 2, 3, 2, 1),\n",
        "        nn.BatchNorm2d(hp.generator_size // 2),\n",
        "        nn.ReLU(inplace=True),\n",
        "        # upscaling\n",
        "        nn.ConvTranspose2d(hp.generator_size // 2, hp.generator_size // 4, 4, 2, 1),\n",
        "        nn.BatchNorm2d(hp.generator_size // 4),\n",
        "        nn.ReLU(inplace=True),\n",
        "        nn.ConvTranspose2d(hp.generator_size // 4, 1, 4, 2, 1),\n",
        "        nn.Tanh()\n",
        "        )\n",
        "\n",
        "\n",
        "    def forward(self, latent):\n",
        "        vec_latent = self.latent_embedding(latent).reshape(-1, hp.generator_size, 1, 1)\n",
        "        return self.tcnn(vec_latent)\n",
        "\n",
        "\n",
        "# Define the critic\n",
        "\n",
        "class Critic(nn.Module):\n",
        "    def __init__(self):\n",
        "        super(Critic, self).__init__()\n",
        "\n",
        "        # CNN layers that perform downscaling\n",
        "        self.cnn_net = nn.Sequential(\n",
        "        nn.Conv2d(1, hp.critic_size // 4, 3, 2),\n",
        "        nn.InstanceNorm2d(hp.critic_size // 4, affine=True),\n",
        "        nn.LeakyReLU(0.2, inplace=True),\n",
        "        nn.Conv2d(hp.critic_size // 4, hp.critic_size // 2, 3, 2),\n",
        "        nn.InstanceNorm2d(hp.critic_size // 2, affine=True),\n",
        "        nn.LeakyReLU(0.2, inplace=True),\n",
        "        nn.Conv2d(hp.critic_size // 2, hp.critic_size, 3, 2),\n",
        "        nn.InstanceNorm2d(hp.critic_size, affine=True),\n",
        "        nn.LeakyReLU(0.2, inplace=True),\n",
        "        nn.Flatten(),\n",
        "        )\n",
        "\n",
        "        # Linear layers that produce the output from the features\n",
        "        self.critic_net = nn.Sequential(\n",
        "        nn.Linear(hp.critic_size * 4, hp.critic_hidden_size),\n",
        "        nn.LeakyReLU(0.2, inplace=True),\n",
        "\n",
        "        # Add the last layer to reflect the output\n",
        "        nn.Linear(hp.critic_hidden_size, 1)\n",
        "        )\n",
        "\n",
        "    def forward(self, image):\n",
        "        cnn_features = self.cnn_net(image)\n",
        "        return self.critic_net(cnn_features)\n"
      ]
    },
    {
      "cell_type": "markdown",
      "metadata": {
        "id": "ob-pjufhEkwv"
      },
      "source": [
        "## Before Training\n",
        "\n",
        "Next we define the two models and the optimizers. We use the [AdamW](https://pytorch.org/docs/stable/generated/torch.optim.AdamW.html) algorithm.\n",
        "\n"
      ]
    },
    {
      "cell_type": "code",
      "execution_count": 8,
      "metadata": {
        "id": "fQ_oJlyPEkwv"
      },
      "outputs": [],
      "source": [
        "critic, generator = Critic().to(device), Generator().to(device)\n",
        "\n",
        "critic_optimizer = optim.AdamW(critic.parameters(), lr=1e-4,betas=(0., 0.9))\n",
        "generator_optimizer = optim.AdamW(generator.parameters(), lr=1e-4,betas=(0., 0.9))"
      ]
    },
    {
      "cell_type": "markdown",
      "metadata": {
        "id": "wIyk2rGPEkwv"
      },
      "source": [
        "## Training pipeline\n",
        "\n",
        "\n",
        "Finally, we perform training on the two networks. The training consists of two steps: (1) Updating discriminators for n_critic steps (such that we have an optimal critic): here we use an aggregation of three loss functions, (a) The real loss (the output scalar of the critic for real images); (b) The fake loss (same value for fake images); (c) The [gradient penalty](https://arxiv.org/pdf/1704.00028). (2) Updating generators by only considering the fake loss (to fool the critic).\n"
      ]
    },
    {
      "cell_type": "code",
      "execution_count": 9,
      "metadata": {
        "colab": {
          "base_uri": "https://localhost:8080/"
        },
        "id": "AKkYiOC2P9mi",
        "outputId": "1f2bb6be-41d2-4784-b0d3-962d9e12c0ca"
      },
      "outputs": [
        {
          "name": "stdout",
          "output_type": "stream",
          "text": [
            "[ 0/5][      0][    5.98s]\td_loss/g_loss:  2.0/0.17\t\n",
            "[ 0/5][    100][   21.11s]\td_loss/g_loss: -4.6/0.29\t\n",
            "[ 0/5][    200][   36.35s]\td_loss/g_loss: -2.8/-0.43\t\n",
            "[ 0/5][    300][   51.76s]\td_loss/g_loss: -3.7/0.57\t\n",
            "[ 0/5][    400][   67.34s]\td_loss/g_loss: -4.0/0.55\t\n",
            "[ 0/5][    500][   83.10s]\td_loss/g_loss: -5.0/0.95\t\n",
            "[ 0/5][    600][   98.96s]\td_loss/g_loss: -4.6/ 0.9\t\n",
            "[ 0/5][    700][  114.76s]\td_loss/g_loss: -5.2/ 1.1\t\n",
            "[ 0/5][    800][  130.65s]\td_loss/g_loss: -5.2/ 1.1\t\n",
            "[ 0/5][    900][  146.60s]\td_loss/g_loss: -5.4/0.36\t\n",
            "[ 1/5][    937][  152.75s]\td_loss/g_loss: -5.2/0.68\t\n",
            "[ 1/5][   1037][  169.01s]\td_loss/g_loss: -5.4/ 1.9\t\n",
            "[ 1/5][   1137][  185.26s]\td_loss/g_loss: -5.5/ 1.4\t\n",
            "[ 1/5][   1237][  201.57s]\td_loss/g_loss: -5.5/ 1.2\t\n",
            "[ 1/5][   1337][  217.93s]\td_loss/g_loss: -5.7/ 1.2\t\n",
            "[ 1/5][   1437][  234.38s]\td_loss/g_loss: -1.3/-0.65\t\n",
            "[ 1/5][   1537][  250.93s]\td_loss/g_loss: -1.8/-0.9\t\n",
            "[ 1/5][   1637][  267.58s]\td_loss/g_loss: -1.4/-1.0\t\n",
            "[ 1/5][   1737][  284.23s]\td_loss/g_loss: -1.5/-0.91\t\n",
            "[ 1/5][   1837][  300.91s]\td_loss/g_loss: -1.2/ 1.2\t\n",
            "[ 2/5][   1874][  307.26s]\td_loss/g_loss: -0.97/-0.068\t\n",
            "[ 2/5][   1974][  323.98s]\td_loss/g_loss: -1.1/-0.085\t\n",
            "[ 2/5][   2074][  340.79s]\td_loss/g_loss: -1.4/0.43\t\n",
            "[ 2/5][   2174][  357.45s]\td_loss/g_loss: -1.3/-0.74\t\n",
            "[ 2/5][   2274][  374.09s]\td_loss/g_loss: -0.91/0.44\t\n",
            "[ 2/5][   2374][  390.81s]\td_loss/g_loss: -0.77/0.65\t\n",
            "[ 2/5][   2474][  407.48s]\td_loss/g_loss: -0.7/-0.72\t\n",
            "[ 2/5][   2574][  424.19s]\td_loss/g_loss: -0.88/-0.53\t\n",
            "[ 2/5][   2674][  440.89s]\td_loss/g_loss: -1.1/-0.33\t\n",
            "[ 2/5][   2774][  457.58s]\td_loss/g_loss: -0.57/0.17\t\n",
            "[ 3/5][   2811][  463.95s]\td_loss/g_loss: -0.86/-0.67\t\n",
            "[ 3/5][   2911][  480.64s]\td_loss/g_loss: -0.91/0.74\t\n",
            "[ 3/5][   3011][  497.42s]\td_loss/g_loss: -0.65/-0.061\t\n",
            "[ 3/5][   3111][  514.16s]\td_loss/g_loss: -1.2/-0.64\t\n",
            "[ 3/5][   3211][  530.83s]\td_loss/g_loss: -0.78/-0.61\t\n",
            "[ 3/5][   3311][  547.52s]\td_loss/g_loss: -0.97/-1.1\t\n",
            "[ 3/5][   3411][  564.28s]\td_loss/g_loss: -0.84/-0.32\t\n",
            "[ 3/5][   3511][  580.99s]\td_loss/g_loss: -1.4/-0.94\t\n",
            "[ 3/5][   3611][  597.67s]\td_loss/g_loss: -1.1/ 1.3\t\n",
            "[ 3/5][   3711][  614.38s]\td_loss/g_loss: -0.95/-0.11\t\n",
            "[ 4/5][   3748][  620.69s]\td_loss/g_loss: -0.79/-1.7\t\n",
            "[ 4/5][   3848][  637.41s]\td_loss/g_loss: -1.1/-0.73\t\n",
            "[ 4/5][   3948][  654.09s]\td_loss/g_loss: -0.65/-1.3\t\n",
            "[ 4/5][   4048][  670.80s]\td_loss/g_loss: -1.0/-0.98\t\n",
            "[ 4/5][   4148][  687.51s]\td_loss/g_loss: -1.3/-0.47\t\n",
            "[ 4/5][   4248][  704.18s]\td_loss/g_loss: -0.37/-0.72\t\n",
            "[ 4/5][   4348][  720.88s]\td_loss/g_loss: -0.67/-1.6\t\n",
            "[ 4/5][   4448][  737.63s]\td_loss/g_loss: -0.84/-0.4\t\n",
            "[ 4/5][   4548][  754.39s]\td_loss/g_loss: -1.4/-0.65\t\n",
            "[ 4/5][   4648][  771.10s]\td_loss/g_loss: -1.3/0.57\t\n"
          ]
        }
      ],
      "source": [
        "img_list, generator_losses, critic_losses = [], [], []\n",
        "iters = 0\n",
        "fixed_noise = torch.randn((64, hp.latent_size), device=device)\n",
        "grad_tensor = torch.ones((hp.batchsize, 1), device=device)\n",
        "start_time = time.time()\n",
        "for epoch in range(hp.num_epochs):\n",
        "    for batch_idx, data in enumerate(dataloader, 0):\n",
        "        real_images = data[0].to(device)\n",
        "\n",
        "        # Update Critic\n",
        "        critic_optimizer.zero_grad()\n",
        "\n",
        "        # (a) Real loss\n",
        "        critic_output_real = critic(real_images)\n",
        "        critic_loss_real = critic_output_real.mean()\n",
        "\n",
        "        # (b) Fake loss\n",
        "        # Implement the fake loss\n",
        "\n",
        "        # (1) Generating a noise tensor (of dimension (batch_size, latent_size)), you are required to\n",
        "        # use the hyperparameters in the hp class\n",
        "\n",
        "        noise = torch.randn((hp.batchsize, hp.latent_size), device=device)\n",
        "\n",
        "        # (2) Generate fake images using the generator (hint: you are not supposed to perform gradient\n",
        "        # update on the generator)\n",
        "\n",
        "        fake_image = generator(noise).detach()\n",
        "\n",
        "        # (3) Calculate the fake loss using the output of the generator\n",
        "        critic_output_fake =  critic(fake_image)\n",
        "        critic_loss_fake = critic_output_fake.mean()\n",
        "\n",
        "        #  (c) Gradient penalty\n",
        "        alpha = torch.rand((hp.batchsize, 1, 1, 1), device=device)\n",
        "        interpolates = (alpha * real_images + ((1. - alpha) * fake_image)).requires_grad_(True)\n",
        "        d_interpolates = critic(interpolates)\n",
        "        gradients = autograd.grad(d_interpolates, interpolates, grad_tensor, create_graph=True, only_inputs=True)[0]\n",
        "        gradient_penalty = hp.gp_lambda * ((gradients.view(hp.batchsize, -1).norm(dim=1) - 1.) ** 2).mean()\n",
        "\n",
        "        critic_loss = -critic_loss_real + critic_loss_fake + gradient_penalty\n",
        "\n",
        "        critic_loss.backward()\n",
        "        critic_optimizer.step()\n",
        "\n",
        "        if batch_idx % hp.n_critic == 0:\n",
        "            # Update Generator\n",
        "            generator_optimizer.zero_grad()\n",
        "\n",
        "            noise = torch.randn((hp.batchsize, hp.latent_size), device=device)\n",
        "            fake_image = generator(noise)\n",
        "            critic_output_fake = critic(fake_image)\n",
        "            generator_loss = -critic_output_fake.mean()\n",
        "\n",
        "            generator_loss.backward()\n",
        "            generator_optimizer.step()\n",
        "\n",
        "        # Output training stats\n",
        "        if batch_idx % 100 == 0:\n",
        "            elapsed_time = time.time() - start_time\n",
        "            print(f\"[{epoch:>2}/{hp.num_epochs}][{iters:>7}][{elapsed_time:8.2f}s]\\t\"\n",
        "                  f\"d_loss/g_loss: {critic_loss.item():4.2}/{generator_loss.item():4.2}\\t\")\n",
        "\n",
        "        # Save Losses for plotting later\n",
        "        generator_losses.append(generator_loss.item())\n",
        "        critic_losses.append(critic_loss.item())\n",
        "\n",
        "        # Check how the generator is doing by saving G's output on fixed_noise\n",
        "        if (iters % 500 == 0) or ((epoch == hp.num_epochs - 1) and (batch_idx == len(dataloader) - 1)):\n",
        "            with torch.no_grad(): fake_images = generator(fixed_noise).cpu()\n",
        "            img_list.append(vutils.make_grid(fake_images, padding=2, normalize=True))\n",
        "\n",
        "        iters += 1"
      ]
    },
    {
      "cell_type": "markdown",
      "metadata": {
        "id": "o1fyxVPLEkww"
      },
      "source": [
        "## Visualization"
      ]
    },
    {
      "cell_type": "code",
      "execution_count": 10,
      "metadata": {
        "colab": {
          "base_uri": "https://localhost:8080/",
          "height": 472
        },
        "id": "JhDPdes7QYyf",
        "outputId": "439ec77e-eb66-4301-e7e7-f4f66d6c5aa3"
      },
      "outputs": [
        {
          "data": {
            "image/png": "[encoded data removed]",
            "text/plain": [
              "<Figure size 640x480 with 1 Axes>"
            ]
          },
          "metadata": {},
          "output_type": "display_data"
        }
      ],
      "source": [
        "# Visualize the loss\n",
        "# include the figure in the latex file\n",
        "plt.title(\"Generator and Critic Loss During Training\")\n",
        "plt.plot(generator_losses,label=\"G\")\n",
        "plt.plot(critic_losses,label=\"D\")\n",
        "plt.xlabel(\"iterations\")\n",
        "plt.ylabel(\"Loss\")\n",
        "plt.legend()\n",
        "plt.show()"
      ]
    }
  ],
  "metadata": {
    "accelerator": "GPU",
    "colab": {
      "provenance": [],
      "toc_visible": true
    },
    "kernelspec": {
      "display_name": "Python 3 (ipykernel)",
      "language": "python",
      "name": "python3"
    },
    "language_info": {
      "codemirror_mode": {
        "name": "ipython",
        "version": 3
      },
      "file_extension": ".py",
      "mimetype": "text/x-python",
      "name": "python",
      "nbconvert_exporter": "python",
      "pygments_lexer": "ipython3",
      "version": "3.10.9"
    }
  },
  "nbformat": 4,
  "nbformat_minor": 0
}
