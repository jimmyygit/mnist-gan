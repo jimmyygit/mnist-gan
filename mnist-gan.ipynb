{
  "cells": [
    {
      "cell_type": "markdown",
      "metadata": {
        "id": "LmdobkJsEkwr"
      },
      "source": [
        "## Setup\n",
        "\n",
        "\n",
        "1. In Colab, open tab Runtime > Change runtime type, choose *python3* and *T4 GPU*.\n",
        "2. Run the following command to set up the environment. (Takes ~ 1.5 min)\n",
        "\n"
      ]
    },
    {
      "cell_type": "code",
      "execution_count": 4,
      "metadata": {
        "id": "m_WiZh7IEkwt"
      },
      "outputs": [],
      "source": [
        "! pip install --quiet \"ipython[notebook]==7.34.0, <8.17.0\" \"setuptools>=68.0.0, <68.3.0\"  \"torch==1.13.0\" \"matplotlib\"  \"torchvision\""
      ]
    },
    {
      "cell_type": "markdown",
      "metadata": {
        "id": "D28Xaf1vEkwt"
      },
      "source": [
        "Let's start with importing our standard set of libraries."
      ]
    },
    {
      "cell_type": "code",
      "execution_count": 5,
      "metadata": {
        "colab": {
          "base_uri": "https://localhost:8080/"
        },
        "id": "4DGPSRTNEkwt",
        "outputId": "9d34d7c0-8fbb-4dae-bb1e-7ebdb2bbc370"
      },
      "outputs": [
        {
          "name": "stdout",
          "output_type": "stream",
          "text": [
            "Everything looks good; continue\n"
          ]
        }
      ],
      "source": [
        "import torch\n",
        "from torch import nn, optim, autograd\n",
        "import torchvision\n",
        "import torchvision.transforms as transforms\n",
        "import matplotlib.pyplot as plt\n",
        "import torchvision.utils as vutils\n",
        "from dataclasses import dataclass\n",
        "import time\n",
        "import sys\n",
        "%matplotlib inline\n",
        "torch.set_num_threads(1)\n",
        "torch.manual_seed(1)\n",
        "\n",
        "\n",
        "device = torch.device(\"cuda:0\") if torch.cuda.is_available() else torch.device(\"cpu\")\n",
        "\n",
        "if device == torch.device(\"cuda:0\"):\n",
        "  print('Everything looks good; continue')\n",
        "else:\n",
        "  # It is OK if you cannot connect to a GPU. In this case, training the model for\n",
        "  # 2 epoch is sufficient to get full mark. (NOTE THAT 2 epoch takes approximately 1.5 hours to train for CPU)\n",
        "  print('GPU is not detected. Make sure you have chosen the right runtime type')"
      ]
    }
  ],
  "metadata": {
    "accelerator": "GPU",
    "colab": {
      "provenance": [],
      "toc_visible": true
    },
    "kernelspec": {
      "display_name": "Python 3 (ipykernel)",
      "language": "python",
      "name": "python3"
    },
    "language_info": {
      "codemirror_mode": {
        "name": "ipython",
        "version": 3
      },
      "file_extension": ".py",
      "mimetype": "text/x-python",
      "name": "python",
      "nbconvert_exporter": "python",
      "pygments_lexer": "ipython3",
      "version": "3.10.9"
    }
  },
  "nbformat": 4,
  "nbformat_minor": 0
}
